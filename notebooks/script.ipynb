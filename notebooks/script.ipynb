{
 "cells": [
  {
   "cell_type": "code",
   "execution_count": 1,
   "metadata": {},
   "outputs": [],
   "source": [
    "# Imports\n",
    "import os\n",
    "import csv\n",
    "import numpy as np\n",
    "import speech_recognition as sr \n",
    "from scipy.sparse import csr_matrix\n",
    "from sknetwork.path import shortest_path\n",
    "\n",
    "from collections import defaultdict\n",
    "import functools\n",
    "import itertools\n",
    "\n",
    "currentPath = os.path.dirname(os.path.abspath(''))"
   ]
  },
  {
   "cell_type": "code",
   "execution_count": 2,
   "metadata": {
    "tags": []
   },
   "outputs": [
    {
     "output_type": "stream",
     "name": "stdout",
     "text": [
      "Read 1575 trips out of 1575 rows for 817 distinct train stations.\n"
     ]
    }
   ],
   "source": [
    "# Reading trips from csv file\n",
    "# Inspired from https://stackoverflow.com/a/12398967\n",
    "\n",
    "pathCount = 0\n",
    "timeTableFileName = os.path.join(currentPath, './data/timetables_edited.csv')\n",
    "\n",
    "# Create dictionary to associates a station name with an id\n",
    "trainStationNameToId = defaultdict(functools.partial(next, itertools.count()))\n",
    "\n",
    "with open(timeTableFileName, newline='') as csvfile:\n",
    "    reader = csv.reader(csvfile, delimiter=',')\n",
    "\n",
    "    # Set of the reading position (ignoring header line)\n",
    "    csvfile.seek(0)\n",
    "    next(reader)\n",
    "\n",
    "    # First reading to get the number different stations and init shape of trips object\n",
    "    for row in reader:\n",
    "        idxA = trainStationNameToId[row[1]]\n",
    "        idxB = trainStationNameToId[row[2]]\n",
    "    numberOfTrainstations = len(trainStationNameToId)\n",
    "    trips = np.zeros((numberOfTrainstations, numberOfTrainstations))\n",
    "\n",
    "    # Reset of the reading position (ignoring header line)\n",
    "    csvfile.seek(0)\n",
    "    next(reader)\n",
    "\n",
    "    # Reading data\n",
    "    for row in reader:\n",
    "        pathCount += 1 \n",
    "        idxA = trainStationNameToId[row[1]]\n",
    "        idxB = trainStationNameToId[row[2]]\n",
    "\n",
    "        # If trip already exist/has already be read, display message\n",
    "        indexTupple = (idxA, idxB) if idxA < idxB else (idxB, idxA)\n",
    "        if trips[indexTupple] != 0:\n",
    "            print(f\"Trip {row[1]} - {row[2]} with a distance of {row[3]} has already be read with a distance of {trips[indexTupple]}. Ignoring the new one.\")\n",
    "        else:\n",
    "            trips[indexTupple] = int(row[3])\n",
    "\n",
    "\n",
    "# Create dictionarry to map an id to its train station name\n",
    "trainStationIdToName = dict((id, name) for name, id in trainStationNameToId.items())\n",
    "\n",
    "# Creating Compressed Sparse Row (CSR) matrix to store and work more efficiently with only the trips\n",
    "tripGraph = csr_matrix(trips)\n",
    "\n",
    "print(f\"Read {tripGraph.getnnz()} trips out of {pathCount} rows for {len(trainStationNameToId)} distinct train stations.\")"
   ]
  },
  {
   "cell_type": "code",
   "execution_count": 3,
   "metadata": {
    "tags": []
   },
   "outputs": [],
   "source": [
    "# Functions used to determine the shortest path between cities \n",
    "\n",
    "def getPathBetweenIds(trainStationStartId: int, trainStationEndId: int):\n",
    "    global tripGraph\n",
    "    return shortest_path(tripGraph, sources=trainStationStartId, targets=trainStationEndId, method='D')\n",
    "\n",
    "def getPathBetweenCities(start: str, end: str):\n",
    "    global trainStationNameToId\n",
    "    # TODO (get train station IDs based on the input string and then call and return getPathBetweenIds())\n",
    "    pass\n",
    "\n",
    "def getPathForFullTrip(tripCityWaypoints: list):\n",
    "    # TODO (for each trip within full trip, get the shortest path and return an array of array)\n",
    "    pass   \n"
   ]
  },
  {
   "cell_type": "code",
   "execution_count": 4,
   "metadata": {
    "tags": []
   },
   "outputs": [
    {
     "output_type": "stream",
     "name": "stdout",
     "text": [
      "Adjusting to noise level...\n",
      "Listening...\n",
      "Request recognition...\n",
      "Parsed: 'j'aimerais aller de Colmar à Lille puis à Paris'\n"
     ]
    }
   ],
   "source": [
    "# Getting user's request\n",
    "# Inspired from https://www.geeksforgeeks.org/python-convert-speech-to-text-and-text-to-speech/\n",
    "try: \n",
    "    r = sr.Recognizer()\n",
    "    with sr.Microphone() as source: \n",
    "        print(\"Adjusting to noise level...\")\n",
    "        r.adjust_for_ambient_noise(source, duration=0.2) \n",
    " \n",
    "        print(\"Listening...\")\n",
    "        audio = r.listen(source) \n",
    "            \n",
    "        print(\"Request recognition...\")\n",
    "        request = r.recognize_google(audio, language=\"fr-FR\") \n",
    "\n",
    "        print(f\"Parsed: '{request}'\") \n",
    "            \n",
    "except sr.RequestError as e: \n",
    "    print(f\"Exception during request parsing: {e}\") "
   ]
  },
  {
   "cell_type": "code",
   "execution_count": 5,
   "metadata": {},
   "outputs": [],
   "source": [
    "# Extract cities list in the right travel order from the user's request\n",
    "# TODO "
   ]
  },
  {
   "cell_type": "code",
   "execution_count": 6,
   "metadata": {},
   "outputs": [],
   "source": [
    "# Call getPathForFullTrip() and display the results\n",
    "# TODO"
   ]
  }
 ],
 "metadata": {
  "kernelspec": {
   "display_name": "Python 3",
   "language": "python",
   "name": "python3"
  },
  "language_info": {
   "codemirror_mode": {
    "name": "ipython",
    "version": 3
   },
   "file_extension": ".py",
   "mimetype": "text/x-python",
   "name": "python",
   "nbconvert_exporter": "python",
   "pygments_lexer": "ipython3",
   "version": "3.7.7-final"
  }
 },
 "nbformat": 4,
 "nbformat_minor": 2
}