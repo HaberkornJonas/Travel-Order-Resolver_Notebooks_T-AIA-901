{
 "cells": [
  {
   "cell_type": "code",
   "execution_count": 1,
   "metadata": {},
   "outputs": [],
   "source": [
    "# Imports\n",
    "import os\n",
    "import csv\n",
    "import numpy as np\n",
    "import speech_recognition as sr \n",
    "from scipy.sparse import csr_matrix\n",
    "from sknetwork.path import shortest_path\n",
    "\n",
    "from collections import defaultdict\n",
    "import functools\n",
    "import itertools\n",
    "\n",
    "currentPath = os.path.dirname(os.path.abspath(''))"
   ]
  },
  {
   "cell_type": "code",
   "execution_count": 2,
   "metadata": {
    "tags": []
   },
   "outputs": [
    {
     "output_type": "stream",
     "name": "stdout",
     "text": [
      "Read 3150 go and back trips (1575 distinc trips) out of 1575 rows for 817 distinct train stations.\n"
     ]
    }
   ],
   "source": [
    "# Reading trips from csv file\n",
    "# Inspired from https://stackoverflow.com/a/12398967\n",
    "\n",
    "pathCount = 0\n",
    "timeTableFileName = os.path.join(currentPath, './data/timetables_edited.csv')\n",
    "\n",
    "# Create dictionary to associates a station name with an id\n",
    "trainStationNameToId = defaultdict(functools.partial(next, itertools.count()))\n",
    "\n",
    "with open(timeTableFileName, newline='', encoding='UTF-8') as csvfile:\n",
    "    reader = csv.reader(csvfile, delimiter=',')\n",
    "\n",
    "    # Set of the reading position (ignoring header line)\n",
    "    csvfile.seek(0)\n",
    "    next(reader)\n",
    "\n",
    "    # First reading to get the number different stations and init shape of trips object\n",
    "    for row in reader:\n",
    "        idxA = trainStationNameToId[row[1]]\n",
    "        idxB = trainStationNameToId[row[2]]\n",
    "    numberOfTrainstations = len(trainStationNameToId)\n",
    "    trips = np.zeros((numberOfTrainstations, numberOfTrainstations))\n",
    "\n",
    "    # Reset of the reading position (ignoring header line)\n",
    "    csvfile.seek(0)\n",
    "    next(reader)\n",
    "\n",
    "    # Reading data\n",
    "    for row in reader:\n",
    "        pathCount += 1 \n",
    "        idxA = trainStationNameToId[row[1]]\n",
    "        idxB = trainStationNameToId[row[2]]\n",
    "\n",
    "        # If trip already exist/has already be read, display message\n",
    "        indexTupple = (idxA, idxB) if idxA < idxB else (idxB, idxA)\n",
    "        if trips[indexTupple] != 0:\n",
    "            print(f\"Trip {row[1]} - {row[2]} with a distance of {row[3]} has already be read with a distance of {trips[indexTupple]}. Ignoring the new one.\")\n",
    "        else:\n",
    "            trips[indexTupple] = int(row[3])\n",
    "\n",
    "\n",
    "# Create dictionarry to map an id to its train station name\n",
    "trainStationIdToName = dict((id, name) for name, id in trainStationNameToId.items())\n",
    "\n",
    "# Make matrix symetrical as the trips are not directed but can be taken in both directions\n",
    "# Source from https://stackoverflow.com/a/42209263\n",
    "i_lower = np.tril_indices(numberOfTrainstations, -1)\n",
    "trips[i_lower] = trips.T[i_lower]\n",
    "\n",
    "# Creating Compressed Sparse Row (CSR) matrix to store and work more efficiently with only the trips\n",
    "tripGraph = csr_matrix(trips)\n",
    "\n",
    "print(f\"Read {tripGraph.getnnz()} go and back trips ({int(tripGraph.getnnz() / 2)} distinc trips) out of {pathCount} rows for {len(trainStationNameToId)} distinct train stations.\")"
   ]
  },
  {
   "cell_type": "code",
   "execution_count": 3,
   "metadata": {},
   "outputs": [],
   "source": [
    "class Trip:\n",
    "    def __init__(self, startStationId, endStationId, path, totalDuration):\n",
    "        self.startStationId = startStationId\n",
    "        self.endStationId = endStationId\n",
    "        self.path = path\n",
    "        if totalDuration is None:\n",
    "            self.totalDuration = None\n",
    "        else:\n",
    "            self.totalDuration = int(totalDuration)\n",
    "\n",
    "    def __str__(self):\n",
    "     return f\"Trip from {self.startStationId} to {self.endStationId} for a total duration of {self.totalDuration} by this path: {self.path}\""
   ]
  },
  {
   "cell_type": "code",
   "execution_count": 4,
   "metadata": {
    "tags": []
   },
   "outputs": [
    {
     "output_type": "stream",
     "name": "stdout",
     "text": [
      "#0 - Trip from 18 to 12 for a total duration of 75 by this path: [18, 12]\nGare de Orléans\nGare de Paris-Austerlitz\n#1 - Trip from 735 to 308 for a total duration of 283 by this path: [735, 249, 670, 305, 300, 308]\nGare de Paris-Est\nGare de Chaumont\nGare de Culmont-Chalindrey\nGare de Vittel\nMirecourt\nGare de Charmes (Vosges)\n"
     ]
    }
   ],
   "source": [
    "# Functions used to determine the shortest path between cities \n",
    "\n",
    "def getPathBetweenIds(trainStationStartIds: list, trainStationEndIds: list):\n",
    "    global tripGraph\n",
    "    paths = []\n",
    "    # As shortest_path() does not support multiple sources and multiple targets at the same time, we'll iterate through all start points and manually concat the results\n",
    "    if(len(trainStationStartIds) > 1 and len(trainStationEndIds) > 1):\n",
    "        for trainStationEndId in trainStationEndIds:\n",
    "            results = shortest_path(tripGraph, sources=[int(i) for i in trainStationStartIds], targets=[int(trainStationEndId)], method='D')\n",
    "            for result in results:\n",
    "                if len(result) >= 2:\n",
    "                    paths.append(result)\n",
    "        return paths\n",
    "    else:\n",
    "        results = shortest_path(tripGraph, sources=[int(i) for i in trainStationStartIds], targets=[int(i) for i in trainStationEndIds], method='D')\n",
    "        for result in results:\n",
    "            if len(result) >= 2:\n",
    "                paths.append(result)\n",
    "        return paths\n",
    "\n",
    "def isCityMatchingKey(city: str, key: str):\n",
    "    return city.lower() in key.lower()\n",
    "\n",
    "def getPathBetweenCities(start: str, end: str):\n",
    "    trainStationStartIds = np.array([])\n",
    "    trainStationEndIds = np.array([])\n",
    "    \n",
    "    # Get all stations that contains the searched name\n",
    "    for key, value in trainStationNameToId.items():\n",
    "        if isCityMatchingKey(start, key):\n",
    "            trainStationStartIds = np.append(trainStationStartIds, value)\n",
    "        if isCityMatchingKey(end, key):\n",
    "            trainStationEndIds = np.append(trainStationEndIds, value)\n",
    "\n",
    "    if len(trainStationStartIds) > 0 and len(trainStationEndIds) > 0:\n",
    "        return getPathBetweenIds(trainStationStartIds, trainStationEndIds)\n",
    "    else:\n",
    "        return np.array([])\n",
    "\n",
    "def getBestPathForFullTrip(tripCityWaypoints: list):\n",
    "    global tripGraph\n",
    "    fullTrip = np.array(np.zeros(len(tripCityWaypoints)-1), dtype=object)\n",
    "    # Iterate through all sub trips\n",
    "    for trip in range(len(fullTrip)):\n",
    "        paths = getPathBetweenCities(tripCityWaypoints[trip], tripCityWaypoints[trip+1])\n",
    "        minDistance = None\n",
    "        keptPath = None\n",
    "        startId = None\n",
    "        endId = None\n",
    "\n",
    "        # Iterate though the returned array\n",
    "        for path in paths:\n",
    "            distance = 0\n",
    "            # Nested array => multiple start/end possible\n",
    "            if isinstance(path, list):\n",
    "                for i in range(len(path)-1):\n",
    "                    distance = distance + tripGraph[(path[i], path[i+1])]\n",
    "                if minDistance is None or distance < minDistance:\n",
    "                    minDistance = distance\n",
    "                    keptPath = path\n",
    "                    startId = path[0]\n",
    "                    endId = path[len(path)-1]\n",
    "            \n",
    "            # Scalar value => only one path possible\n",
    "            else:\n",
    "                for i in range(len(paths)-1):\n",
    "                    distance = distance + tripGraph[(paths[i], paths[i+1])]\n",
    "                minDistance = distance\n",
    "                keptPath = paths\n",
    "                startId = paths[0]\n",
    "                endId = paths[len(paths)-1]\n",
    "\n",
    "        fullTrip[trip] = Trip(startId, endId, keptPath, minDistance)\n",
    "    return fullTrip\n",
    "\n",
    "\n",
    "# Use following to test pathfinding functions above\n",
    "def testPathfinding():\n",
    "    bestTrips = getBestPathForFullTrip(['Orléan', 'Paris', 'Vosges'])\n",
    "    for i in range(len(bestTrips)):\n",
    "        print(f\"#{i} - {bestTrips[i]}\")\n",
    "        for stationId in bestTrips[i].path:\n",
    "            print(f\"{trainStationIdToName[stationId]}\")\n",
    "testPathfinding()"
   ]
  },
  {
   "cell_type": "code",
   "execution_count": 5,
   "metadata": {
    "tags": []
   },
   "outputs": [
    {
     "output_type": "stream",
     "name": "stdout",
     "text": [
      "Adjusting to noise level...\n",
      "Listening...\n",
      "Voice recognition...\n",
      "Parsed: 'j'aimerais aller de Orléans à Paris puis dans les Vosges'\n"
     ]
    }
   ],
   "source": [
    "# Getting user's request\n",
    "# Inspired from https://www.geeksforgeeks.org/python-convert-speech-to-text-and-text-to-speech/\n",
    "try: \n",
    "    r = sr.Recognizer()\n",
    "    with sr.Microphone() as source: \n",
    "        print(\"Adjusting to noise level...\")\n",
    "        r.adjust_for_ambient_noise(source, duration=0.2) \n",
    " \n",
    "        print(\"Listening...\")\n",
    "        audio = r.listen(source) \n",
    "            \n",
    "        print(\"Voice recognition...\")\n",
    "        request = r.recognize_google(audio, language=\"fr-FR\") \n",
    "\n",
    "        print(f\"Parsed: '{request}'\") \n",
    "            \n",
    "except sr.RequestError as e: \n",
    "    print(f\"Exception during request parsing: {e}\") "
   ]
  },
  {
   "cell_type": "code",
   "execution_count": 6,
   "metadata": {},
   "outputs": [],
   "source": [
    "# Extract cities list in the right travel order from the user's request\n",
    "# TODO "
   ]
  },
  {
   "cell_type": "code",
   "execution_count": 7,
   "metadata": {},
   "outputs": [],
   "source": [
    "# Call getBestPathForFullTrip() and display the results\n",
    "# TODO"
   ]
  }
 ],
 "metadata": {
  "kernelspec": {
   "display_name": "Python 3",
   "language": "python",
   "name": "python3"
  },
  "language_info": {
   "codemirror_mode": {
    "name": "ipython",
    "version": 3
   },
   "file_extension": ".py",
   "mimetype": "text/x-python",
   "name": "python",
   "nbconvert_exporter": "python",
   "pygments_lexer": "ipython3",
   "version": "3.7.7-final"
  }
 },
 "nbformat": 4,
 "nbformat_minor": 2
}